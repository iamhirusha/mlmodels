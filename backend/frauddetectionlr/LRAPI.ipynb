{
 "cells": [
  {
   "cell_type": "code",
   "execution_count": 1,
   "id": "915802ed-c8b2-49ea-8d25-3069f9533161",
   "metadata": {},
   "outputs": [
    {
     "name": "stdout",
     "output_type": "stream",
     "text": [
      " * Serving Flask app '__main__'\n",
      " * Debug mode: on\n"
     ]
    },
    {
     "name": "stderr",
     "output_type": "stream",
     "text": [
      "WARNING: This is a development server. Do not use it in a production deployment. Use a production WSGI server instead.\n",
      " * Running on http://127.0.0.1:5000\n",
      "Press CTRL+C to quit\n"
     ]
    }
   ],
   "source": [
    "from flask import Flask, request, jsonify\n",
    "import joblib\n",
    "import pandas as pd\n",
    "import threading\n",
    "\n",
    "# Load the trained Logistic Regression model\n",
    "log_reg_model = joblib.load('logistic_regression_model.pkl')\n",
    "\n",
    "# Define Flask app\n",
    "app = Flask(__name__)\n",
    "\n",
    "@app.route('/predict', methods=['POST'])\n",
    "def predict():\n",
    "    try:\n",
    "        data = request.get_json()  # Get JSON input\n",
    "        df = pd.DataFrame([data])  # Convert input data to DataFrame\n",
    "\n",
    "        # One-hot encode categorical features (if needed)\n",
    "        df = pd.get_dummies(df, drop_first=True)\n",
    "\n",
    "        # Make prediction\n",
    "        prediction = log_reg_model.predict(df)\n",
    "\n",
    "        return jsonify({'prediction': int(prediction[0])})\n",
    "    \n",
    "    except Exception as e:\n",
    "        return jsonify({'error': str(e)})\n",
    "\n",
    "# Function to run Flask in a separate thread\n",
    "def run_flask():\n",
    "    app.run(port=5000, debug=True, use_reloader=False)\n",
    "\n",
    "# Start Flask in a background thread\n",
    "thread = threading.Thread(target=run_flask)\n",
    "thread.start()\n"
   ]
  },
  {
   "cell_type": "code",
   "execution_count": 5,
   "id": "00fe9be3-b5e7-43d0-89c3-937e8a4f306d",
   "metadata": {},
   "outputs": [
    {
     "name": "stderr",
     "output_type": "stream",
     "text": [
      "127.0.0.1 - - [15/Mar/2025 12:16:21] \"POST /predict HTTP/1.1\" 200 -\n"
     ]
    },
    {
     "name": "stdout",
     "output_type": "stream",
     "text": [
      "{'error': 'The feature names should match those that were passed during fit.\\nFeature names seen at fit time, yet now missing:\\n- Bank\\n- Country_of_Residence\\n- Country_of_Transaction\\n- Day_of_Week\\n- Entry_Mode\\n- ...\\n'}\n"
     ]
    }
   ],
   "source": [
    "import requests   \n",
    "\n",
    "# Sample input data (raw format)\n",
    "test_data = {\n",
    "    \"Day_of_Week\": \"Monday\",\n",
    "    \"Time\": 12,\n",
    "    \"Type_of_Card\": \"Visa\",\n",
    "    \"Entry_Mode\": \"Tap\",\n",
    "    \"Amount\": 500.00,\n",
    "    \"Type_of_Transaction\": \"POS\",\n",
    "    \"Merchant_Group\": \"Children\",\n",
    "    \"Country_of_Transaction\": \"USA\",\n",
    "    \"Country_of_Residence\": \"USA\",\n",
    "    \"Gender\": \"M\",\n",
    "    \"Age\": 35,\n",
    "    \"Bank\": \"Barclays\"\n",
    "}\n",
    "\n",
    "# Send a POST request to the API\n",
    "response = requests.post(\"http://127.0.0.1:5000/predict\", json=test_data)\n",
    "\n",
    "# Print the response\n",
    "print(response.json())\n"
   ]
  },
  {
   "cell_type": "code",
   "execution_count": null,
   "id": "e9cba9f2-ac4d-4b1a-aa3a-281f5e509180",
   "metadata": {},
   "outputs": [],
   "source": []
  }
 ],
 "metadata": {
  "kernelspec": {
   "display_name": "Python 3 (ipykernel)",
   "language": "python",
   "name": "python3"
  },
  "language_info": {
   "codemirror_mode": {
    "name": "ipython",
    "version": 3
   },
   "file_extension": ".py",
   "mimetype": "text/x-python",
   "name": "python",
   "nbconvert_exporter": "python",
   "pygments_lexer": "ipython3",
   "version": "3.12.7"
  }
 },
 "nbformat": 4,
 "nbformat_minor": 5
}
