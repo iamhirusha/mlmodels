{
 "cells": [
  {
   "cell_type": "code",
   "execution_count": 4,
   "id": "0281b0c0",
   "metadata": {},
   "outputs": [
    {
     "name": "stdout",
     "output_type": "stream",
     "text": [
      "Collecting flask-cors\n",
      "  Downloading flask_cors-5.0.1-py3-none-any.whl (11 kB)\n",
      "Requirement already satisfied: Werkzeug>=0.7 in c:\\users\\iamhi\\anaconda3\\lib\\site-packages (from flask-cors) (2.2.2)\n",
      "Requirement already satisfied: flask>=0.9 in c:\\users\\iamhi\\anaconda3\\lib\\site-packages (from flask-cors) (2.2.2)\n",
      "Requirement already satisfied: Jinja2>=3.0 in c:\\users\\iamhi\\anaconda3\\lib\\site-packages (from flask>=0.9->flask-cors) (3.1.2)\n",
      "Requirement already satisfied: itsdangerous>=2.0 in c:\\users\\iamhi\\anaconda3\\lib\\site-packages (from flask>=0.9->flask-cors) (2.0.1)\n",
      "Requirement already satisfied: click>=8.0 in c:\\users\\iamhi\\anaconda3\\lib\\site-packages (from flask>=0.9->flask-cors) (8.0.4)\n",
      "Requirement already satisfied: MarkupSafe>=2.1.1 in c:\\users\\iamhi\\anaconda3\\lib\\site-packages (from Werkzeug>=0.7->flask-cors) (2.1.1)\n",
      "Requirement already satisfied: colorama in c:\\users\\iamhi\\anaconda3\\lib\\site-packages (from click>=8.0->flask>=0.9->flask-cors) (0.4.6)\n",
      "Installing collected packages: flask-cors\n",
      "Successfully installed flask-cors-5.0.1\n"
     ]
    }
   ],
   "source": [
    "!pip install flask-cors"
   ]
  },
  {
   "cell_type": "code",
   "execution_count": 5,
   "id": "000f3c5b",
   "metadata": {},
   "outputs": [
    {
     "name": "stdout",
     "output_type": "stream",
     "text": [
      "flask_cors is installed!\n"
     ]
    },
    {
     "name": "stderr",
     "output_type": "stream",
     "text": [
      "127.0.0.1 - - [15/Mar/2025 10:45:18] \"OPTIONS /predict HTTP/1.1\" 200 -\n",
      "127.0.0.1 - - [15/Mar/2025 10:45:20] \"OPTIONS /predict HTTP/1.1\" 200 -\n"
     ]
    }
   ],
   "source": [
    "import flask_cors\n",
    "print(\"flask_cors is installed!\")"
   ]
  },
  {
   "cell_type": "code",
   "execution_count": 1,
   "id": "7bd2803c",
   "metadata": {},
   "outputs": [
    {
     "name": "stdout",
     "output_type": "stream",
     "text": [
      " * Serving Flask app '__main__'\n",
      " * Debug mode: on\n"
     ]
    },
    {
     "name": "stderr",
     "output_type": "stream",
     "text": [
      "WARNING: This is a development server. Do not use it in a production deployment. Use a production WSGI server instead.\n",
      " * Running on http://127.0.0.1:5000\n",
      "Press CTRL+C to quit\n",
      "127.0.0.1 - - [15/Mar/2025 10:47:08] \"OPTIONS /predict HTTP/1.1\" 200 -\n",
      "127.0.0.1 - - [15/Mar/2025 10:47:11] \"OPTIONS /predict HTTP/1.1\" 200 -\n",
      "127.0.0.1 - - [15/Mar/2025 10:51:53] \"GET /predict HTTP/1.1\" 405 -\n",
      "127.0.0.1 - - [15/Mar/2025 10:51:53] \"GET /favicon.ico HTTP/1.1\" 404 -\n"
     ]
    }
   ],
   "source": [
    "from flask import Flask, request, jsonify\n",
    "import joblib\n",
    "import pandas as pd\n",
    "import numpy as np\n",
    "import threading\n",
    "from flask_cors import CORS\n",
    "\n",
    "# Load the trained model and scaler\n",
    "knn = joblib.load('knn_model.pkl')\n",
    "scaler = joblib.load('scaler.pkl')\n",
    "\n",
    "# Load the expected feature columns from training\n",
    "expected_columns = joblib.load('expected_columns.pkl')  # Save this during training\n",
    "\n",
    "# Define Flask app\n",
    "app = Flask(__name__)\n",
    "\n",
    "@app.route('/predict', methods=['POST'])\n",
    "def predict():\n",
    "    try:\n",
    "        data = request.get_json()  # Get JSON input\n",
    "        df = pd.DataFrame([data])  # Convert input data to DataFrame\n",
    "\n",
    "        # Apply same transformations as during training\n",
    "        df = pd.get_dummies(df, drop_first=True)\n",
    "\n",
    "        # **Fix: Add missing columns efficiently using pd.concat()**\n",
    "        missing_cols = list(set(expected_columns) - set(df.columns))\n",
    "        if missing_cols:\n",
    "            missing_df = pd.DataFrame(0, index=df.index, columns=missing_cols)  # Create missing columns at once\n",
    "            df = pd.concat([df, missing_df], axis=1)  # Combine\n",
    "\n",
    "        # Ensure the column order matches the training data\n",
    "        df = df[expected_columns]\n",
    "\n",
    "        # Scale input features\n",
    "        X_scaled = scaler.transform(df)\n",
    "\n",
    "        # Make prediction\n",
    "        prediction = knn.predict(X_scaled)\n",
    "\n",
    "        return jsonify({'prediction': prediction.tolist()})\n",
    "\n",
    "    except Exception as e:\n",
    "        return jsonify({'error': str(e)})\n",
    "\n",
    "# Function to run Flask in a separate thread\n",
    "def run_flask():\n",
    "    app.run(port=5000, debug=True, use_reloader=False)\n",
    "\n",
    "# Start Flask in a background thread\n",
    "thread = threading.Thread(target=run_flask)\n",
    "thread.start()"
   ]
  },
  {
   "cell_type": "code",
   "execution_count": 1,
   "id": "1ac9a321",
   "metadata": {},
   "outputs": [
    {
     "name": "stdout",
     "output_type": "stream",
     "text": [
      " * Serving Flask app '__main__'\n",
      " * Debug mode: on\n"
     ]
    },
    {
     "name": "stderr",
     "output_type": "stream",
     "text": [
      "WARNING: This is a development server. Do not use it in a production deployment. Use a production WSGI server instead.\n",
      " * Running on http://127.0.0.1:5000\n",
      "Press CTRL+C to quit\n",
      "127.0.0.1 - - [15/Mar/2025 11:16:02] \"OPTIONS /predict HTTP/1.1\" 200 -\n",
      "127.0.0.1 - - [15/Mar/2025 11:16:02] \"POST /predict HTTP/1.1\" 200 -\n",
      "127.0.0.1 - - [15/Mar/2025 11:17:00] \"OPTIONS /predict HTTP/1.1\" 200 -\n",
      "127.0.0.1 - - [15/Mar/2025 11:17:00] \"POST /predict HTTP/1.1\" 200 -\n"
     ]
    }
   ],
   "source": [
    "from flask import Flask, request, jsonify\n",
    "from flask_cors import CORS\n",
    "import threading\n",
    "import joblib\n",
    "import pandas as pd\n",
    "import numpy as np\n",
    "import threading\n",
    "\n",
    "# Load the trained model and scaler\n",
    "knn = joblib.load('knn_model.pkl')\n",
    "scaler = joblib.load('scaler.pkl')\n",
    "\n",
    "# Load the expected feature columns from training\n",
    "expected_columns = joblib.load('expected_columns.pkl')\n",
    "\n",
    "app = Flask(__name__)\n",
    "\n",
    "# Enable CORS for all routes\n",
    "CORS(app, resources={r\"/predict\": {\"origins\": \"*\"}})\n",
    "\n",
    "@app.route('/predict', methods=['POST'])\n",
    "def predict():\n",
    "    try:\n",
    "        data = request.get_json()  # Get JSON input\n",
    "        df = pd.DataFrame([data])  # Convert input data to DataFrame\n",
    "\n",
    "        # Apply same transformations as during training\n",
    "        df = pd.get_dummies(df, drop_first=True)\n",
    "\n",
    "        # **Fix: Add missing columns efficiently using pd.concat()**\n",
    "        missing_cols = list(set(expected_columns) - set(df.columns))\n",
    "        if missing_cols:\n",
    "            missing_df = pd.DataFrame(0, index=df.index, columns=missing_cols)  # Create missing columns at once\n",
    "            df = pd.concat([df, missing_df], axis=1)  # Combine\n",
    "\n",
    "        # Ensure the column order matches the training data\n",
    "        df = df[expected_columns]\n",
    "\n",
    "        # Scale input features\n",
    "        X_scaled = scaler.transform(df)\n",
    "\n",
    "        # Make prediction\n",
    "        prediction = knn.predict(X_scaled)\n",
    "\n",
    "        return jsonify({'predicted_country': prediction.tolist()})\n",
    "\n",
    "    except Exception as e:\n",
    "        return jsonify({'error': str(e)})\n",
    "\n",
    "# Run Flask in a background thread\n",
    "def run_flask():\n",
    "    app.run(debug=True, use_reloader=False)\n",
    "\n",
    "# Start the server only once\n",
    "threading.Thread(target=run_flask).start()\n"
   ]
  },
  {
   "cell_type": "code",
   "execution_count": 2,
   "id": "0d83aeb8",
   "metadata": {},
   "outputs": [
    {
     "name": "stdout",
     "output_type": "stream",
     "text": [
      "{'prediction': [0]}\n"
     ]
    }
   ],
   "source": [
    "import requests\n",
    "\n",
    "# Sample input data\n",
    "input_data = {\n",
    "    \"Gender\": \"Male\",\n",
    "    \"Age\": 35,\n",
    "    \"Origin_Country\": \"Thailand\",\n",
    "    \"State\": \"Bangkok\",\n",
    "    \"Hotel_Rating\": 4,\n",
    "    \"No_of_Days\": 5,\n",
    "    \"No_Of_People\": 2\n",
    "}\n",
    "\n",
    "# Send a POST request to the API\n",
    "response = requests.post(\"http://127.0.0.1:5000/predict\", json=input_data)\n",
    "\n",
    "# Print the response\n",
    "print(response.json())"
   ]
  },
  {
   "cell_type": "code",
   "execution_count": 3,
   "id": "0a6ca8f5",
   "metadata": {},
   "outputs": [
    {
     "name": "stdout",
     "output_type": "stream",
     "text": [
      "{'prediction': [3]}\n"
     ]
    }
   ],
   "source": [
    "import requests\n",
    "\n",
    "# Sample input data\n",
    "input_data = {\n",
    "    \"Gender\": \"Female\",\n",
    "    \"Age\": 65,\n",
    "    \"Origin_Country\": \"Malaysia\",\n",
    "    \"State\": \"Johor\",\n",
    "    \"Hotel_Rating\": 3,\n",
    "    \"No_of_Days\": 25,\n",
    "    \"No_Of_People\": 8\n",
    "}\n",
    "\n",
    "# Send a POST request to the API\n",
    "response = requests.post(\"http://127.0.0.1:5000/predict\", json=input_data)\n",
    "\n",
    "# Print the response\n",
    "print(response.json())"
   ]
  },
  {
   "cell_type": "code",
   "execution_count": null,
   "id": "92569293",
   "metadata": {},
   "outputs": [],
   "source": []
  }
 ],
 "metadata": {
  "kernelspec": {
   "display_name": "Python 3 (ipykernel)",
   "language": "python",
   "name": "python3"
  },
  "language_info": {
   "codemirror_mode": {
    "name": "ipython",
    "version": 3
   },
   "file_extension": ".py",
   "mimetype": "text/x-python",
   "name": "python",
   "nbconvert_exporter": "python",
   "pygments_lexer": "ipython3",
   "version": "3.10.9"
  }
 },
 "nbformat": 4,
 "nbformat_minor": 5
}
